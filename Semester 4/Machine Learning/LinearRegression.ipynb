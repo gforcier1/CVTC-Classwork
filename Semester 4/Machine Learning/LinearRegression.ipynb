{
 "cells": [
  {
   "cell_type": "code",
   "execution_count": 16,
   "id": "6eb207bd",
   "metadata": {},
   "outputs": [
    {
     "data": {
      "text/plain": [
       "array([ 0.09646225,  0.12933076, -0.11181737,  0.11181737, -0.22012153,\n",
       "        0.03680718,  0.17764162,  0.00567273,  0.04781272, -0.04781272])"
      ]
     },
     "execution_count": 16,
     "metadata": {},
     "output_type": "execute_result"
    }
   ],
   "source": [
    "# Import libraries\n",
    "import pandas as pd\n",
    "from sklearn.model_selection import train_test_split\n",
    "from sklearn.linear_model import LinearRegression\n",
    "import seaborn as sns\n",
    "import matplotlib.pyplot as plt\n",
    "from sklearn.metrics import mean_absolute_error\n",
    "\n",
    "#Import dataset\n",
    "df = pd.read_csv('https://raw.githubusercontent.com/mwaskom/seaborn-data/master/tips.csv')\n",
    "\n",
    "del df['smoker']\n",
    "\n",
    "#Convert non-numeric data using one-hot encoding\n",
    "df = pd.get_dummies(df, columns=['time','day','sex'])\n",
    "df.head()\n",
    "\n",
    "#Assign X and y variables\n",
    "X = df.drop('tip',axis=1)\n",
    "y = df['tip']\n",
    "\n",
    "#Split data into test/train set\n",
    "X_train, X_test, y_train, y_test = train_test_split(X,y, test_size=0.3, shuffle=True)\n",
    "\n",
    "#Assign algorithm\n",
    "model = LinearRegression()\n",
    "\n",
    "#Link algorithm to X and y variables\n",
    "model.fit(X_train, y_train)\n",
    "\n",
    "#Find y-intercept\n",
    "model.intercept_\n",
    "\n",
    "#Find X coefficients\n",
    "model.coef_\n"
   ]
  },
  {
   "cell_type": "code",
   "execution_count": 22,
   "id": "e70bf7a8",
   "metadata": {},
   "outputs": [
    {
     "name": "stdout",
     "output_type": "stream",
     "text": [
      "Training Set Mean Absolute Error: 0.77\n",
      "Test Set Mean Absolute Error: 0.67\n"
     ]
    }
   ],
   "source": [
    "mae_train = mean_absolute_error(y_train, model.predict(X_train))\n",
    "print(\"Training Set Mean Absolute Error: %.2f\" % mae_train)\n",
    "\n",
    "mae_test = mean_absolute_error(y_test, model.predict(X_test))\n",
    "print(\"Test Set Mean Absolute Error: %.2f\" % mae_test)\n"
   ]
  },
  {
   "cell_type": "code",
   "execution_count": 24,
   "id": "12e1d27f",
   "metadata": {},
   "outputs": [
    {
     "name": "stderr",
     "output_type": "stream",
     "text": [
      "C:\\Python\\anaconda3\\Lib\\site-packages\\sklearn\\base.py:464: UserWarning: X does not have valid feature names, but LinearRegression was fitted with feature names\n",
      "  warnings.warn(\n"
     ]
    },
    {
     "data": {
      "text/plain": [
       "array([4.55174507])"
      ]
     },
     "execution_count": 24,
     "metadata": {},
     "output_type": "execute_result"
    }
   ],
   "source": [
    "#Data point to predict\n",
    "jamie = [\n",
    "\t40, #total_bill\n",
    "\t2, #size\n",
    "\t1, #time_dinner\n",
    "\t0, #time_lunch\n",
    "\t1, #day_fri\n",
    "\t0, #day_sat\n",
    "\t0, #day_sun\n",
    "\t0, #day_thur\n",
    "\t1, #sex_female\n",
    "\t0, #sex_male\n",
    "]\n",
    "\n",
    "# Make prediction\n",
    "jamie = model.predict([jamie])\n",
    "jamie"
   ]
  }
 ],
 "metadata": {
  "kernelspec": {
   "display_name": "Python 3 (ipykernel)",
   "language": "python",
   "name": "python3"
  },
  "language_info": {
   "codemirror_mode": {
    "name": "ipython",
    "version": 3
   },
   "file_extension": ".py",
   "mimetype": "text/x-python",
   "name": "python",
   "nbconvert_exporter": "python",
   "pygments_lexer": "ipython3",
   "version": "3.11.5"
  }
 },
 "nbformat": 4,
 "nbformat_minor": 5
}
